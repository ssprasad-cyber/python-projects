{
  "nbformat": 4,
  "nbformat_minor": 0,
  "metadata": {
    "colab": {
      "provenance": [],
      "include_colab_link": true
    },
    "kernelspec": {
      "name": "python3",
      "display_name": "Python 3"
    },
    "language_info": {
      "name": "python"
    }
  },
  "cells": [
    {
      "cell_type": "markdown",
      "metadata": {
        "id": "view-in-github",
        "colab_type": "text"
      },
      "source": [
        "<a href=\"https://colab.research.google.com/github/ssprasad-cyber/python-projects/blob/main/ssprasad_assi_2.ipynb\" target=\"_parent\"><img src=\"https://colab.research.google.com/assets/colab-badge.svg\" alt=\"Open In Colab\"/></a>"
      ]
    },
    {
      "cell_type": "markdown",
      "source": [
        "**project : rock - paper - scissor game using python.**\n",
        "\n",
        "\n",
        "*(it was simmple with very less logic do it by your own)*"
      ],
      "metadata": {
        "id": "mUnCyOa6QUSB"
      }
    },
    {
      "cell_type": "code",
      "source": [
        "pip install pyfiglet"
      ],
      "metadata": {
        "colab": {
          "base_uri": "https://localhost:8080/"
        },
        "id": "Pd1K6WZWzKeI",
        "outputId": "13e67526-22e9-4657-adb3-391480e40968"
      },
      "execution_count": 4,
      "outputs": [
        {
          "output_type": "stream",
          "name": "stdout",
          "text": [
            "Collecting pyfiglet\n",
            "  Downloading pyfiglet-1.0.2-py3-none-any.whl (1.1 MB)\n",
            "\u001b[2K     \u001b[90m━━━━━━━━━━━━━━━━━━━━━━━━━━━━━━━━━━━━━━━━\u001b[0m \u001b[32m1.1/1.1 MB\u001b[0m \u001b[31m5.6 MB/s\u001b[0m eta \u001b[36m0:00:00\u001b[0m\n",
            "\u001b[?25hInstalling collected packages: pyfiglet\n",
            "Successfully installed pyfiglet-1.0.2\n"
          ]
        }
      ]
    },
    {
      "cell_type": "code",
      "source": [
        "import random as rd\n",
        "import pyfiglet as pf"
      ],
      "metadata": {
        "id": "exZGBox4yUML"
      },
      "execution_count": 5,
      "outputs": []
    },
    {
      "cell_type": "code",
      "execution_count": 79,
      "metadata": {
        "id": "ZPe6V74iQTaE",
        "colab": {
          "base_uri": "https://localhost:8080/"
        },
        "outputId": "c7038c14-69cf-40a3-b573-2ac3f06200c2"
      },
      "outputs": [
        {
          "name": "stdout",
          "output_type": "stream",
          "text": [
            "--------------------------------------------------------------------------------------------------------------------------------------------------------------------- \n",
            "\n",
            "██████╗  ██████╗  ██████╗██╗  ██╗              ██████╗  █████╗ ██████╗ ███████╗██████╗               ███████╗ ██████╗██╗███████╗███████╗ ██████╗ ██████╗ \n",
            "██╔══██╗██╔═══██╗██╔════╝██║ ██╔╝              ██╔══██╗██╔══██╗██╔══██╗██╔════╝██╔══██╗              ██╔════╝██╔════╝██║██╔════╝██╔════╝██╔═══██╗██╔══██╗\n",
            "██████╔╝██║   ██║██║     █████╔╝     █████╗    ██████╔╝███████║██████╔╝█████╗  ██████╔╝    █████╗    ███████╗██║     ██║███████╗███████╗██║   ██║██████╔╝\n",
            "██╔══██╗██║   ██║██║     ██╔═██╗     ╚════╝    ██╔═══╝ ██╔══██║██╔═══╝ ██╔══╝  ██╔══██╗    ╚════╝    ╚════██║██║     ██║╚════██║╚════██║██║   ██║██╔══██╗\n",
            "██║  ██║╚██████╔╝╚██████╗██║  ██╗              ██║     ██║  ██║██║     ███████╗██║  ██║              ███████║╚██████╗██║███████║███████║╚██████╔╝██║  ██║\n",
            "╚═╝  ╚═╝ ╚═════╝  ╚═════╝╚═╝  ╚═╝              ╚═╝     ╚═╝  ╚═╝╚═╝     ╚══════╝╚═╝  ╚═╝              ╚══════╝ ╚═════╝╚═╝╚══════╝╚══════╝ ╚═════╝ ╚═╝  ╚═╝\n",
            "                                                                                                                                                         \n",
            "\n",
            "--------------------------------------------------------------------------------------------------------------------------------------------------------------------- \n",
            "\n",
            "ENTER YOUR MOVE\n",
            "1 ROCK \n",
            "2 PAPER \n",
            "3 ✂SCISSOR \n",
            "\n",
            "enter end/END to end game\n",
            "1\n",
            "YOU: Rock\t COMPUTER: Scissor\n",
            "YOUR SCORE :1\tCOMPUTER SCORE: 0\n",
            "\n",
            " enter AGAIN\t1 ROCK 2 PAPER 3 ✂SCISSOR \n",
            "\n",
            "enter end/END to end game\n",
            "2\n",
            "YOU: Paper\t COMPUTER: Scissor\n",
            "YOUR SCORE :1\tCOMPUTER SCORE: 1\n",
            "\n",
            " enter AGAIN\t1 ROCK 2 PAPER 3 ✂SCISSOR \n",
            "\n",
            "enter end/END to end game\n",
            "end\n"
          ]
        }
      ],
      "source": [
        "c_mind = [\"Rock\",\"Paper\",\"Scissor\"]\n",
        "U_score = 0\n",
        "C_score = 0\n",
        "title = pf.figlet_format(\"ROCK - PAPER - SCISSOR\",font=\"ansi_shadow\",width = 180)\n",
        "print(\"---------------------------------\"*5,\"\\n\")\n",
        "print(title)\n",
        "print(\"---------------------------------\"*5,\"\\n\")\n",
        "print(\"ENTER YOUR MOVE\")\n",
        "print(\"1 ROCK \\n2 PAPER \\n3 ✂SCISSOR \\n\")\n",
        "while True:\n",
        "  c_inp = rd.randint(0,2)\n",
        "  inp = input(\"enter end/END to end game\\n\")\n",
        "  if inp.lower() == \"end\" :\n",
        "    break\n",
        "  inp = int(inp)\n",
        "  if inp < 1 or inp > 3:\n",
        "    print(\"incorrect input play again\")\n",
        "  if inp > 0 and inp < 4:\n",
        "    if inp == c_inp+1:\n",
        "      print(\"its a draw\",f\"computer: {c_mind[c_inp]} you: {c_mind[inp-1]}\")\n",
        "    elif inp == c_inp or (inp == 3 and c_inp == 0) :\n",
        "      C_score+=1\n",
        "    else:\n",
        "      U_score+=1\n",
        "    print(f\"YOU: {c_mind[inp-1]}\\t COMPUTER: {c_mind[c_inp]}\\nYOUR SCORE :{U_score}\\tCOMPUTER SCORE: {C_score}\")\n",
        "    print(\"\\n enter AGAIN\\t1 ROCK 2 PAPER 3 ✂SCISSOR \\n\")"
      ]
    }
  ]
}
